{
 "cells": [
  {
   "cell_type": "code",
   "execution_count": 8,
   "id": "092fd4af",
   "metadata": {},
   "outputs": [
    {
     "name": "stdout",
     "output_type": "stream",
     "text": [
      "Número total de filas en el archivo original: 4817\n",
      "Número total de filas después de filtrar: 4817\n",
      "\n",
      "Top 5 filas sin valores nulos en 'nombre_foto' o 'public_url':\n",
      "                                         nombre_foto  \\\n",
      "0      imagenes_stgo/-33.444015088,-70.691601112.jpg   \n",
      "1  imagenes_stgo/-33.44411478864353,-70.691710198...   \n",
      "2  imagenes_stgo/-33.441460383999996,-70.69160111...   \n",
      "3  imagenes_stgo/-33.44186860567823,-70.691710198...   \n",
      "4  imagenes_stgo/-33.43962242271293,-70.691710198...   \n",
      "\n",
      "                                              result  \n",
      "0  The image depicts an open, fenced field surrou...  \n",
      "1  The image depicts an open, grassy field enclos...  \n",
      "2  The scene depicts a roadside view featuring a ...  \n",
      "3  The image depicts a wide urban highway lined w...  \n",
      "4  The image depicts a section of a highway chara...  \n"
     ]
    }
   ],
   "source": [
    "import pandas as pd\n",
    "\n",
    "# Reemplaza con la ruta correcta a tu archivo CSV\n",
    "file_path = '../data/inferences/delitos_imagenes_santiago_limpio_con_descripcion.csv'\n",
    "\n",
    "try:\n",
    "    # Cargar el archivo CSV en un DataFrame de pandas\n",
    "    df = pd.read_csv(file_path)\n",
    "    df = df[['nombre_foto', 'result']]    # Filtrar el DataFrame para eliminar filas con valores nulos en 'nombre_foto' o 'public_url'\n",
    "    df_cleaned = df.dropna(subset=['nombre_foto'])\n",
    "\n",
    "    # Calcular el número de filas en el DataFrame original y en el limpio\n",
    "    total_rows_original = len(df)\n",
    "    total_rows_cleaned = len(df_cleaned)\n",
    "\n",
    "    print(f\"Número total de filas en el archivo original: {total_rows_original}\")\n",
    "    print(f\"Número total de filas después de filtrar: {total_rows_cleaned}\")\n",
    "    print(\"\\nTop 5 filas sin valores nulos en 'nombre_foto' o 'public_url':\")\n",
    "\n",
    "    # Imprimir las primeras 5 filas del DataFrame limpio\n",
    "    print(df_cleaned.head(5))\n",
    "\n",
    "except FileNotFoundError:\n",
    "    print(f\"Error: No se pudo encontrar el archivo en la ruta especificada: {file_path}\")\n",
    "except Exception as e:\n",
    "    print(f\"Ocurrió un error: {e}\")"
   ]
  }
 ],
 "metadata": {
  "kernelspec": {
   "display_name": "Python 3",
   "language": "python",
   "name": "python3"
  },
  "language_info": {
   "codemirror_mode": {
    "name": "ipython",
    "version": 3
   },
   "file_extension": ".py",
   "mimetype": "text/x-python",
   "name": "python",
   "nbconvert_exporter": "python",
   "pygments_lexer": "ipython3",
   "version": "3.12.5"
  }
 },
 "nbformat": 4,
 "nbformat_minor": 5
}
